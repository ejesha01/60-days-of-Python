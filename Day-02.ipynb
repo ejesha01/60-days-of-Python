{
 "cells": [
  {
   "cell_type": "code",
   "execution_count": 2,
   "id": "70c16b91-b904-493d-94ac-bdfa626e7bcf",
   "metadata": {},
   "outputs": [
    {
     "data": {
      "text/plain": [
       "'hello'"
      ]
     },
     "execution_count": 2,
     "metadata": {},
     "output_type": "execute_result"
    }
   ],
   "source": [
    "\"hello\""
   ]
  },
  {
   "cell_type": "code",
   "execution_count": 8,
   "id": "5020d374-398b-42db-a8df-471cdf4ab134",
   "metadata": {},
   "outputs": [
    {
     "data": {
      "text/plain": [
       "'It is my begining of 60 days of python'"
      ]
     },
     "execution_count": 8,
     "metadata": {},
     "output_type": "execute_result"
    }
   ],
   "source": [
    "'It is my begining of 60 days of python' #shift+enter"
   ]
  },
  {
   "cell_type": "code",
   "execution_count": 31,
   "id": "c3e7586d-a96c-46a3-852e-4e58fbf0092d",
   "metadata": {},
   "outputs": [
    {
     "name": "stdout",
     "output_type": "stream",
     "text": [
      "Hello Tech world.let me begin my python journey.Hope for the best!"
     ]
    }
   ],
   "source": [
    "print('Hello Tech world','let me begin my python journey','Hope for the best', sep='.',end='!') #shift+tab and use of sep and end"
   ]
  },
  {
   "cell_type": "code",
   "execution_count": 34,
   "id": "d24a4d1e-64e6-48c3-8ab2-b3aecfc5baaa",
   "metadata": {},
   "outputs": [
    {
     "name": "stdout",
     "output_type": "stream",
     "text": [
      "What is Variable?\n"
     ]
    }
   ],
   "source": [
    "var= 'What is Variable?'\n",
    "print(var)"
   ]
  },
  {
   "cell_type": "code",
   "execution_count": 50,
   "id": "a5ee6232-43ea-4753-a546-964db6970289",
   "metadata": {},
   "outputs": [
    {
     "name": "stdout",
     "output_type": "stream",
     "text": [
      "What is Variable?\n"
     ]
    }
   ],
   "source": [
    "say='What is Variable?' #variable name can be anything\n",
    "print(say) #without inverted comma"
   ]
  },
  {
   "cell_type": "code",
   "execution_count": 62,
   "id": "b64d7be8-713e-47f6-8074-876fb80daabf",
   "metadata": {},
   "outputs": [
    {
     "name": "stdout",
     "output_type": "stream",
     "text": [
      "What is Variable?Ans:Variable is a kind of storage of data\n"
     ]
    }
   ],
   "source": [
    "ques='What is Variable?'\n",
    "print(say + 'Ans:Variable is a kind of storage of data')"
   ]
  },
  {
   "cell_type": "code",
   "execution_count": 64,
   "id": "9551d9ed-8eb4-4698-82b4-9f31ef0dad37",
   "metadata": {},
   "outputs": [
    {
     "name": "stdout",
     "output_type": "stream",
     "text": [
      "What is Variable?\n",
      "Ans:Variable is a kind of storage of data\n"
     ]
    }
   ],
   "source": [
    "ans= 'Ans:Variable is a kind of storage of data'    #one variable can be further used\n",
    "print(ques)\n",
    "print(ans)"
   ]
  },
  {
   "cell_type": "code",
   "execution_count": 66,
   "id": "0fe00414-f90e-453b-b3e8-936a83e9ce26",
   "metadata": {},
   "outputs": [
    {
     "name": "stdout",
     "output_type": "stream",
     "text": [
      "What is Variable?Ans:Variable is a kind of storage of data\n"
     ]
    }
   ],
   "source": [
    "print(ques+ans)         #variable can be printed together with+ sign"
   ]
  },
  {
   "cell_type": "code",
   "execution_count": 70,
   "id": "badfc372-54f4-49fd-b735-6a487ad27884",
   "metadata": {},
   "outputs": [
    {
     "data": {
      "text/plain": [
       "2343464843760"
      ]
     },
     "execution_count": 70,
     "metadata": {},
     "output_type": "execute_result"
    }
   ],
   "source": [
    "id(ques)      #location"
   ]
  },
  {
   "cell_type": "code",
   "execution_count": 72,
   "id": "14a44255-7d21-4cc6-8a02-b0e58497feba",
   "metadata": {},
   "outputs": [
    {
     "data": {
      "text/plain": [
       "58"
      ]
     },
     "execution_count": 72,
     "metadata": {},
     "output_type": "execute_result"
    }
   ],
   "source": [
    "import sys                       #size of variable in byte\n",
    "sys.getsizeof(ques)"
   ]
  },
  {
   "cell_type": "code",
   "execution_count": 81,
   "id": "9358d6a0-b892-429a-8ff2-6e1c9c5f3e9b",
   "metadata": {},
   "outputs": [
    {
     "name": "stdout",
     "output_type": "stream",
     "text": [
      "Esrat Jahan Esha\n"
     ]
    }
   ],
   "source": [
    "a,b,c='Esrat', 'Jahan', 'Esha' #packed variable\n",
    "print(a,b,c)"
   ]
  },
  {
   "cell_type": "code",
   "execution_count": 82,
   "id": "24363124-df3f-4ca5-8a4c-ebc098260e8a",
   "metadata": {},
   "outputs": [
    {
     "name": "stdout",
     "output_type": "stream",
     "text": [
      "Esha\n"
     ]
    }
   ],
   "source": [
    "print(c)"
   ]
  },
  {
   "cell_type": "code",
   "execution_count": null,
   "id": "096d4502-e82c-4445-95df-a05c5549f829",
   "metadata": {},
   "outputs": [],
   "source": []
  }
 ],
 "metadata": {
  "kernelspec": {
   "display_name": "Python 3 (ipykernel)",
   "language": "python",
   "name": "python3"
  },
  "language_info": {
   "codemirror_mode": {
    "name": "ipython",
    "version": 3
   },
   "file_extension": ".py",
   "mimetype": "text/x-python",
   "name": "python",
   "nbconvert_exporter": "python",
   "pygments_lexer": "ipython3",
   "version": "3.13.1"
  }
 },
 "nbformat": 4,
 "nbformat_minor": 5
}
